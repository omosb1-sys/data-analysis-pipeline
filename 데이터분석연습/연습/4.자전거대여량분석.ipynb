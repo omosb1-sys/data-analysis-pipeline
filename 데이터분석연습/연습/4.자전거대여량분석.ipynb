{
 "cells": [
  {
   "cell_type": "code",
   "execution_count": 17,
   "id": "50e0c30d",
   "metadata": {},
   "outputs": [],
   "source": [
    "import pandas as pd\n",
    "import numpy as np"
   ]
  },
  {
   "cell_type": "code",
   "execution_count": 113,
   "id": "9638544f",
   "metadata": {},
   "outputs": [],
   "source": [
    "#==============================\n",
    "# 1.날씨 데이터 전처리\n",
    "#=============================="
   ]
  },
  {
   "cell_type": "code",
   "execution_count": 18,
   "id": "7708b6e3",
   "metadata": {},
   "outputs": [
    {
     "name": "stdout",
     "output_type": "stream",
     "text": [
      "==================================================\n",
      "1. 날씨 데이터 로드 및 전처리\n",
      "==================================================\n"
     ]
    }
   ],
   "source": [
    "print('='* 50)\n",
    "print(\"1. 날씨 데이터 로드 및 전처리\")\n",
    "print('='* 50)\n"
   ]
  },
  {
   "cell_type": "code",
   "execution_count": 19,
   "id": "c99e3a7b",
   "metadata": {},
   "outputs": [
    {
     "name": "stdout",
     "output_type": "stream",
     "text": [
      "Index(['지점', '지점명', '일시', '기온(°C)', '기온 QC플래그', '강수량(mm)', '강수량 QC플래그',\n",
      "       '풍속(m/s)', '풍속 QC플래그', '풍향(16방위)', '풍향 QC플래그', '습도(%)', '습도 QC플래그',\n",
      "       '증기압(hPa)', '이슬점온도(°C)'],\n",
      "      dtype='object')\n"
     ]
    }
   ],
   "source": [
    "# 날씨 데이터 읽기\n",
    "weather_df = pd.read_csv(\"/Users/sebokoh/Downloads/OBS_ASOS_TIM_20251011190643.csv\", encoding='euc-kr')\n",
    "print(weather_df.columns)\n",
    "\n"
   ]
  },
  {
   "cell_type": "code",
   "execution_count": 20,
   "id": "cd3057f7",
   "metadata": {},
   "outputs": [
    {
     "name": "stdout",
     "output_type": "stream",
     "text": [
      "원본 컬럼명:\n",
      "['지점', '지점명', '일시', '기온(°C)', '기온 QC플래그', '강수량(mm)', '강수량 QC플래그', '풍속(m/s)', '풍속 QC플래그', '풍향(16방위)', '풍향 QC플래그', '습도(%)', '습도 QC플래그', '증기압(hPa)', '이슬점온도(°C)']\n"
     ]
    }
   ],
   "source": [
    "print(\"원본 컬럼명:\")\n",
    "print(weather_df.columns.tolist())"
   ]
  },
  {
   "cell_type": "code",
   "execution_count": null,
   "id": "227c71d4",
   "metadata": {},
   "outputs": [],
   "source": [
    "#컬럼명 변경( 인덱스로)\n",
    "# 2: 일시, 3:기온, 5:강수량, 7:풍속, 11:습도\n",
    "weather_selected = \\\n",
    "weather_df.iloc[:, [2, 3, 5, 7, 11]].copy()\n"
   ]
  },
  {
   "cell_type": "code",
   "execution_count": 56,
   "id": "8b069bc0",
   "metadata": {},
   "outputs": [
    {
     "name": "stdout",
     "output_type": "stream",
     "text": [
      "\n",
      "선택된 컬럼\n",
      "['일시', '기온', '강수량', '풍속', '습도']\n"
     ]
    }
   ],
   "source": [
    "#새로운 DataFrame에 컬럼명 지정\n",
    "weather_df = pd.DataFrame({\n",
    "    '일시':\n",
    "weather_selected.iloc[:, 0],\n",
    "    '기온': \n",
    "weather_selected.iloc[:, 1],\n",
    "    '강수량': \n",
    "weather_selected.iloc[:, 2],\n",
    "    '풍속':\n",
    "weather_selected.iloc[:, 3],\n",
    "    '습도':\n",
    "weather_selected.iloc[:, 4]   \n",
    "    })\n",
    "print(\"\\n선택된 컬럼\")\n",
    "print(weather_df.columns.tolist())\n",
    "\n",
    "\n"
   ]
  },
  {
   "cell_type": "code",
   "execution_count": 83,
   "id": "6b294aa0",
   "metadata": {},
   "outputs": [],
   "source": [
    "# 컬럼명 안전 재정의( 혹시 단위 포함일때 대비)\n",
    "weather_df.rename(columns={\n",
    "    '기온(℃)': '기온',\n",
    "    '강수량(mm)': '강수량',\n",
    "    '풍속(m/s)': '풍속',\n",
    "    '습도(%)': '습도'\n",
    "}, inplace=True)\n"
   ]
  },
  {
   "cell_type": "code",
   "execution_count": 57,
   "id": "7ea98efd",
   "metadata": {},
   "outputs": [],
   "source": [
    "# 날짜/ 시간 변환\n",
    "weather_df['일시'] = pd.to_datetime(weather_df['일시'])\n",
    "weather_df['날짜'] = weather_df['일시'].dt.date\n",
    "weather_df['시간'] = weather_df['일시'].dt.hour"
   ]
  },
  {
   "cell_type": "code",
   "execution_count": 58,
   "id": "5f402a2d",
   "metadata": {},
   "outputs": [
    {
     "name": "stderr",
     "output_type": "stream",
     "text": [
      "/var/folders/dd/f2k55d550k56jsv4rd7v1_3m0000gn/T/ipykernel_3827/238942424.py:2: FutureWarning: Series.fillna with 'method' is deprecated and will raise in a future version. Use obj.ffill() or obj.bfill() instead.\n",
      "  weather_df['기온'].fillna(method='ffill', inplace=True)\n"
     ]
    }
   ],
   "source": [
    "#결측치 처리\n",
    "weather_df['기온'].fillna(method='ffill', inplace=True)\n",
    "weather_df['강수량'].fillna(0, inplace=True)\n",
    "weather_df['풍속'].fillna(weather_df['풍속']. mean(), inplace=True)\n",
    "weather_df['습도'].fillna(weather_df['습도']. mean(), inplace=True)"
   ]
  },
  {
   "cell_type": "code",
   "execution_count": 85,
   "id": "cbea3649",
   "metadata": {},
   "outputs": [
    {
     "name": "stdout",
     "output_type": "stream",
     "text": [
      "날씨 데이터: 24건\n",
      "\n",
      " 날씨 데이터 샘플:\n",
      "                    일시    기온  강수량   풍속  습도\n",
      "0  2025-06-01 00:00:00  19.8  0.0  0.8  69\n",
      "1  2025-06-01 01:00:00  19.2  0.0  0.8  70\n",
      "2  2025-06-01 02:00:00  18.8  0.0  2.2  74\n",
      "3  2025-06-01 03:00:00  18.1  0.0  2.6  77\n",
      "4  2025-06-01 04:00:00  17.7  0.0  0.9  76\n",
      "5  2025-06-01 05:00:00  17.4  0.0  0.9  77\n",
      "6  2025-06-01 06:00:00  17.1  0.0  0.6  81\n",
      "7  2025-06-01 07:00:00  18.0  0.0  0.6  79\n",
      "8  2025-06-01 08:00:00  20.2  0.0  2.2  73\n",
      "9  2025-06-01 09:00:00  22.1  0.0  2.3  64\n",
      "10 2025-06-01 10:00:00  23.5  0.0  1.0  58\n",
      "11 2025-06-01 11:00:00  25.3  0.0  1.9  55\n",
      "12 2025-06-01 12:00:00  26.9  0.0  2.8  46\n",
      "13 2025-06-01 13:00:00  27.6  0.0  2.4  41\n",
      "14 2025-06-01 14:00:00  28.6  0.0  2.9  44\n",
      "15 2025-06-01 15:00:00  29.1  0.0  2.9  39\n",
      "16 2025-06-01 16:00:00  28.2  0.0  4.6  45\n",
      "17 2025-06-01 17:00:00  26.6  0.0  3.4  43\n",
      "18 2025-06-01 18:00:00  25.3  0.0  2.6  44\n",
      "19 2025-06-01 19:00:00  24.0  0.0  3.4  45\n",
      "20 2025-06-01 20:00:00  22.7  0.0  2.6  47\n",
      "21 2025-06-01 21:00:00  22.2  0.0  1.4  51\n",
      "22 2025-06-01 22:00:00  21.4  0.0  1.1  55\n",
      "23 2025-06-01 23:00:00  20.9  0.0  1.3  56\n",
      "\n",
      "날씨 데이터 기간: 2025-06-01 00:00:00 ~ 2025-06-01 23:00:00\n"
     ]
    }
   ],
   "source": [
    "#날씨 상태 분류\n",
    "def classify_weather(row):\n",
    "    if pd.isna(row['강수량']) or row['강수량'] == 0:\n",
    "        return '맑음'\n",
    "    \n",
    "    elif row['강수량'] < 5:\n",
    "        return '비(적음)'\n",
    "    else:\n",
    "        return '비(많음)'\n",
    "weather_df['날씨상태'] = weather_df.apply(classify_weather, axis=1)\n",
    "\n",
    "print(f\"날씨 데이터: {len(weather_df)}건\")\n",
    "print(\"\\n 날씨 데이터 샘플:\")\n",
    "print(weather_df[['일시', '기온', '강수량', '풍속', '습도']])\n",
    "print(f\"\\n날씨 데이터 기간: {weather_df['일시'].min()} ~ {weather_df['일시'].max()}\")    "
   ]
  },
  {
   "cell_type": "code",
   "execution_count": 114,
   "id": "f1d9fed7",
   "metadata": {},
   "outputs": [],
   "source": [
    "#========================================\n",
    "#2. 자전거 대여 데이터 전처리\n",
    "#========================================"
   ]
  },
  {
   "cell_type": "code",
   "execution_count": 34,
   "id": "a54f8b74",
   "metadata": {},
   "outputs": [
    {
     "name": "stdout",
     "output_type": "stream",
     "text": [
      "\n",
      "==================================================\n",
      "2. 자전거 대여 데이터 로드 및 전처리\n",
      "==================================================\n"
     ]
    }
   ],
   "source": [
    "\n",
    "print(\"\\n\" + '='* 50)\n",
    "print(\"2. 자전거 대여 데이터 로드 및 전처리\")\n",
    "print('='* 50)\n",
    "\n",
    "# 자전거 대여 데이터 읽기(파일명 수정 필요)\n",
    "bike_df = pd.read_csv(\"/Users/sebokoh/Downloads/서울특별시 공공자전거 대여이력 정보_2506.csv\", encoding='cp949')"
   ]
  },
  {
   "cell_type": "code",
   "execution_count": 36,
   "id": "98820dc6",
   "metadata": {},
   "outputs": [],
   "source": [
    "# 날짜/시간 변환 (컬럼명은 실제 데이터에 맞게 수정)\n",
    "bike_df['대여일시'] = pd.to_datetime(bike_df['대여일시'])\n",
    "bike_df['날짜'] = bike_df['대여일시'].dt.date\n",
    "bike_df['시간'] = bike_df['대여일시'].dt.hour"
   ]
  },
  {
   "cell_type": "code",
   "execution_count": 37,
   "id": "92ba2afc",
   "metadata": {},
   "outputs": [],
   "source": [
    "# 요일, 월 추가\n",
    "bike_df['요일'] = bike_df['대여일시'].dt.dayofweek    # 월요일=0, 일요일=6\n",
    "bike_df['월'] = bike_df['대여일시'].dt.month    \n",
    "bike_df['요일명'] = bike_df['대여일시'].dt.day_name()"
   ]
  },
  {
   "cell_type": "code",
   "execution_count": 38,
   "id": "ae2c6dd6",
   "metadata": {},
   "outputs": [],
   "source": [
    "# 주말/평일 구분\n",
    "bike_df['주말평일'] = bike_df['대여일시'].dt.day_name()\n"
   ]
  },
  {
   "cell_type": "code",
   "execution_count": 40,
   "id": "67c72f89",
   "metadata": {},
   "outputs": [],
   "source": [
    "#공휴일 처리 (2025년 기준)\n",
    "holidays = [\n",
    "    '2025-01-01', '2025-02-09', '2025-02-10', '2025-03-01',\n",
    "    '2025-05-05', '2025-05-15', '2025-06-06', '2025-08-15',\n",
    "    '2025-09-16', '2025-09-17', '2025-10-03', '2025-10-09',\n",
    "    '2025-12-25'\n",
    "]\n",
    "bike_df['날짜_str'] = bike_df['날짜'].astype(str)\n",
    "bike_df['공휴일'] = bike_df['날짜_str'].isin(holidays)\n",
    "bike_df['주말평일_최종'] = bike_df.apply(\n",
    "    lambda row: '주말' if row['주말평일'] == '주말' or row['공휴일'] else '평일', axis = 1\n",
    ")\n",
    "\n"
   ]
  },
  {
   "cell_type": "code",
   "execution_count": 47,
   "id": "48f620eb",
   "metadata": {},
   "outputs": [
    {
     "name": "stdout",
     "output_type": "stream",
     "text": [
      "  주말평일_최종   시간대     대여건수\n",
      "0      주말    야간    47093\n",
      "1      주말    주간    60884\n",
      "2      주말  출근시간     8930\n",
      "3      주말  퇴근시간    21008\n",
      "4      평일    야간  1287240\n"
     ]
    }
   ],
   "source": [
    "result = (\n",
    "    bike_df.groupby(['주말평일_최종', '시간대'])\n",
    "    .size()\n",
    "    .reset_index(name='대여건수')\n",
    ")\n",
    "print(result.head())"
   ]
  },
  {
   "cell_type": "code",
   "execution_count": 49,
   "id": "67617fae",
   "metadata": {},
   "outputs": [
    {
     "name": "stdout",
     "output_type": "stream",
     "text": [
      "자전거 데이터: 4024315건\n",
      "\n",
      "자전거 데이터 샘플:\n",
      "                 대여일시  대여건수 주말평일_최종 시간대\n",
      "0 2025-06-01 00:00:32     1      평일  야간\n",
      "1 2025-06-01 00:00:34     1      평일  야간\n",
      "2 2025-06-01 00:01:04     1      평일  야간\n",
      "3 2025-06-01 00:00:29     1      평일  야간\n",
      "4 2025-06-01 00:00:21     1      평일  야간\n"
     ]
    }
   ],
   "source": [
    "# 시간대 구분 (출퇴근 시간 분석용)\n",
    "def classify_time(hour):\n",
    "    if 8 <= hour < 10:\n",
    "        return '출근시간'\n",
    "    elif 18 <= hour < 20:\n",
    "        return '퇴근시간'\n",
    "    elif 10 <= hour < 18:\n",
    "        return '주간'\n",
    "    else:\n",
    "        return '야간'\n",
    "    \n",
    "bike_df['시간대'] = bike_df['시간'].apply(classify_time)\n",
    "\n",
    "print(f\"자전거 데이터: {len(bike_df)}건\")\n",
    "print(\"\\n자전거 데이터 샘플:\")\n",
    "print(bike_df[['대여일시', '대여건수', '주말평일_최종', '시간대']].head())"
   ]
  },
  {
   "cell_type": "code",
   "execution_count": 115,
   "id": "836b6241",
   "metadata": {},
   "outputs": [],
   "source": [
    "#======================================\n",
    "#3. 데이터 병합 (날짜 + 시간 기준)\n",
    "#======================================"
   ]
  },
  {
   "cell_type": "code",
   "execution_count": 50,
   "id": "f0de52f1",
   "metadata": {},
   "outputs": [
    {
     "name": "stdout",
     "output_type": "stream",
     "text": [
      "\n",
      "==================================================\n",
      "3. 날씨 + 자전거 데이터 병합\n",
      "==================================================\n"
     ]
    }
   ],
   "source": [
    "print(\"\\n\" + '='* 50)\n",
    "print(\"3. 날씨 + 자전거 데이터 병합\")\n",
    "print('='* 50)"
   ]
  },
  {
   "cell_type": "code",
   "execution_count": 81,
   "id": "d2bd653a",
   "metadata": {},
   "outputs": [
    {
     "name": "stdout",
     "output_type": "stream",
     "text": [
      "['일시', '기온', '강수량', '풍속', '습도', '날짜', '시간']\n"
     ]
    }
   ],
   "source": [
    "print(weather_df.columns.tolist())"
   ]
  },
  {
   "cell_type": "code",
   "execution_count": 86,
   "id": "28b911bf",
   "metadata": {},
   "outputs": [
    {
     "name": "stdout",
     "output_type": "stream",
     "text": [
      "\n",
      "병합 전 자전거 데이터: 4024315건\n",
      "병합 후 데이터: 4024315건\n",
      "날씨 정보 결측: {merged_df['기온'].isnull().sum()}건\n"
     ]
    }
   ],
   "source": [
    "# 병합할 날씨 데이터 준비\n",
    "weather_merge = weather_df[['날짜', '시간', '기온', '강수량', '풍속', '습도', '날씨상태']].copy()\n",
    "\n",
    "# 날짜와 시간을 기준으로 병합\n",
    "merged_df = pd.merge(\n",
    "    bike_df,\n",
    "    weather_merge,\n",
    "    on=['날짜', '시간'],\n",
    "    how='left'\n",
    ")\n",
    "\n",
    "print(f\"\\n병합 전 자전거 데이터: {len(bike_df)}건\")\n",
    "print(f\"병합 후 데이터: {len(merged_df)}건\")\n",
    "print(\"날씨 정보 결측: {merged_df['기온'].isnull().sum()}건\")"
   ]
  },
  {
   "cell_type": "code",
   "execution_count": 87,
   "id": "1a01252a",
   "metadata": {},
   "outputs": [],
   "source": [
    "\n",
    "#날씨 정보 없는 행 제거\n",
    "merged_df = merged_df.dropna(subset=['기온'])"
   ]
  },
  {
   "cell_type": "code",
   "execution_count": null,
   "id": "ec5227b6",
   "metadata": {},
   "outputs": [],
   "source": [
    "#=========================================\n",
    "#4. 가설 검증을 위한 추가 전처리\n",
    "#=========================================="
   ]
  },
  {
   "cell_type": "code",
   "execution_count": 63,
   "id": "6fca31b0",
   "metadata": {},
   "outputs": [
    {
     "name": "stdout",
     "output_type": "stream",
     "text": [
      "\n",
      "==================================================\n",
      "4. 분석을 위한 추가 변수 생성\n",
      "==================================================\n"
     ]
    }
   ],
   "source": [
    "print(\"\\n\" + \"=\"* 50)\n",
    "print(\"4. 분석을 위한 추가 변수 생성\")\n",
    "print(\"=\"* 50)\n"
   ]
  },
  {
   "cell_type": "code",
   "execution_count": 92,
   "id": "d24ee3d8",
   "metadata": {},
   "outputs": [],
   "source": [
    "#기온 구간 생성\n",
    "merged_df['기온구간'] = pd.cut(\n",
    "    merged_df['기온'],\n",
    "    bins = [-10, 0, 10, 15, 20, 25, 30, 40],\n",
    "    labels=['영하', '0-10도', '10-15도', '15-20도', '20-25도', '25-30도', '30도이상']\n",
    ")\n"
   ]
  },
  {
   "cell_type": "code",
   "execution_count": 88,
   "id": "f4bc6212",
   "metadata": {},
   "outputs": [],
   "source": [
    "#계절 구분\n",
    "def get_season(month):\n",
    "    if month in [3, 4, 5]:\n",
    "        return '봄'\n",
    "    elif month in [6, 7, 8]:\n",
    "        return '여름'\n",
    "    elif month in [9, 10, 11]:\n",
    "        return '가을'\n",
    "    else:\n",
    "        return '겨울'\n",
    "\n",
    "merged_df['계절'] = merged_df['월'].apply(get_season)   "
   ]
  },
  {
   "cell_type": "code",
   "execution_count": 93,
   "id": "b5373b58",
   "metadata": {},
   "outputs": [
    {
     "name": "stdout",
     "output_type": "stream",
     "text": [
      "\n",
      "추가 변수 생성 완료:\n",
      "- 기온구간: {'25-30도': 66388, '20-25도': 48986, '15-20도': 14911, '10-15도': 0, '0-10도': 0, '영하': 0, '30도이상': 0}\n",
      "- 계절: {'여름': 130285}\n",
      "- 날씨양호: {1: 130285}\n"
     ]
    }
   ],
   "source": [
    "#날씨 양호 여부 (맑음 = 1, 비 = 0)\n",
    "merged_df['날씨양호'] = (merged_df['날씨상태'] == '맑음').astype(int)\n",
    "\n",
    "print(\"\\n추가 변수 생성 완료:\")\n",
    "print(f\"- 기온구간: {merged_df['기온구간'].value_counts().to_dict()}\")\n",
    "print(f\"- 계절: {merged_df['계절'].value_counts().to_dict()}\")\n",
    "print(f\"- 날씨양호: {merged_df['날씨양호'].value_counts().to_dict()}\")\n"
   ]
  },
  {
   "cell_type": "code",
   "execution_count": 94,
   "id": "a9865c3f",
   "metadata": {},
   "outputs": [
    {
     "name": "stdout",
     "output_type": "stream",
     "text": [
      "\n",
      "==================================================\n",
      "5. 이상치 제거\n",
      "==================================================\n"
     ]
    }
   ],
   "source": [
    "#=================================\n",
    "#5. 이상치 제거\n",
    "#=================================\n",
    "print(\"\\n\" + \"=\"* 50)\n",
    "print(\"5. 이상치 제거\")\n",
    "print(\"=\"* 50)"
   ]
  },
  {
   "cell_type": "code",
   "execution_count": 95,
   "id": "e7d85cc6",
   "metadata": {},
   "outputs": [
    {
     "name": "stdout",
     "output_type": "stream",
     "text": [
      "이상치 제거 전: 130285건\n"
     ]
    }
   ],
   "source": [
    "print(f\"이상치 제거 전: {len(merged_df)}건\")"
   ]
  },
  {
   "cell_type": "code",
   "execution_count": 96,
   "id": "da0eefb7",
   "metadata": {},
   "outputs": [],
   "source": [
    "#IQR 방법으로 이상치 제거\n",
    "Q1 = merged_df['대여건수'].quantile(0.25)\n",
    "Q3 = merged_df['대여건수'].quantile(0.75)\n",
    "IQR = Q3 - Q1\n",
    "lower_bound = Q1 - 1.5 * IQR\n",
    "upper_bound = Q3 + 1.5 * IQR\n",
    "\n",
    "merged_df = merged_df[\n",
    "    (merged_df['대여건수'] >= lower_bound) &\n",
    "    (merged_df['대여건수'] <= upper_bound)\n",
    "]\n",
    "\n"
   ]
  },
  {
   "cell_type": "code",
   "execution_count": 97,
   "id": "98d063b0",
   "metadata": {},
   "outputs": [
    {
     "name": "stdout",
     "output_type": "stream",
     "text": [
      "이상치 제거 후: 130285건\n",
      "제거된 데이터: 3894030건\n"
     ]
    }
   ],
   "source": [
    "print(f\"이상치 제거 후: {len(merged_df)}건\")\n",
    "print(f\"제거된 데이터: {len(bike_df) - len(merged_df)}건\")"
   ]
  },
  {
   "cell_type": "code",
   "execution_count": 98,
   "id": "26f6d1cc",
   "metadata": {},
   "outputs": [
    {
     "name": "stdout",
     "output_type": "stream",
     "text": [
      "\n",
      "==================================================\n",
      "6. 가설 검증용 데이터셋 생성\n",
      "==================================================\n"
     ]
    }
   ],
   "source": [
    "#=================================\n",
    "#6. 가설별 데이터셋 생성\n",
    "#=================================\n",
    "print(\"\\n\" + \"=\"* 50)\n",
    "print(\"6. 가설 검증용 데이터셋 생성\")\n",
    "print(\"=\"* 50)"
   ]
  },
  {
   "cell_type": "code",
   "execution_count": 101,
   "id": "4d3e64a4",
   "metadata": {},
   "outputs": [
    {
     "name": "stdout",
     "output_type": "stream",
     "text": [
      "\n",
      "[가설1] 기온-대여량 분석 데이터: 130285건\n",
      "기온 범위: 17.1℃ ~ 29.1℃\n",
      "상관계수: nan\n"
     ]
    },
    {
     "name": "stderr",
     "output_type": "stream",
     "text": [
      "/Users/sebokoh/.pyenv/versions/3.14.0/lib/python3.14/site-packages/numpy/lib/_function_base_impl.py:3065: RuntimeWarning: invalid value encountered in divide\n",
      "  c /= stddev[:, None]\n",
      "/Users/sebokoh/.pyenv/versions/3.14.0/lib/python3.14/site-packages/numpy/lib/_function_base_impl.py:3066: RuntimeWarning: invalid value encountered in divide\n",
      "  c /= stddev[None, :]\n"
     ]
    }
   ],
   "source": [
    "# 가설1: 기온이 높을수록 대여량 증가\n",
    "# (날씨 영향 최소화 - 맑은 날만)\n",
    "df_temp = merged_df[merged_df['날씨상태'] == '맑음'].copy()\n",
    "print(f\"\\n[가설1] 기온-대여량 분석 데이터: {len(df_temp)}건\")\n",
    "print(f\"기온 범위: {df_temp['기온'].min():.1f}℃ ~ {df_temp['기온'].max():.1f}℃\")\n",
    "print(f\"상관계수: {df_temp['기온'].corr(df_temp['대여건수']):.3f}\")"
   ]
  },
  {
   "cell_type": "code",
   "execution_count": 102,
   "id": "4179e030",
   "metadata": {},
   "outputs": [
    {
     "name": "stdout",
     "output_type": "stream",
     "text": [
      "[가설2] 주말/평일 비교:\n",
      "         mean     sum   count\n",
      "주말평일_최종                      \n",
      "평일        1.0  130285  130285\n"
     ]
    }
   ],
   "source": [
    "#가설 2: 주말 대여량이 평일보다 많다\n",
    "df_weekday = merged_df.copy()\n",
    "weekday_summary = df_weekday.groupby('주말평일_최종')['대여건수'].agg(['mean', 'sum', 'count'])\n",
    "print(f\"[가설2] 주말/평일 비교:\")\n",
    "print(weekday_summary)"
   ]
  },
  {
   "cell_type": "code",
   "execution_count": null,
   "id": "a5fb069e",
   "metadata": {},
   "outputs": [
    {
     "name": "stdout",
     "output_type": "stream",
     "text": [
      "[가설3] 평일 시간대별 대여현황:\n",
      "      mean    sum\n",
      "시간대              \n",
      "야간     1.0  40905\n",
      "주간     1.0  61468\n",
      "출근시간   1.0   8108\n",
      "퇴근시간   1.0  19804\n"
     ]
    }
   ],
   "source": [
    "#가설 3: 출퇴근 시간대 대여량 집중\n",
    "df_rush = merged_df[merged_df['주말평일_최종'] == '평일'].copy()\n",
    "rush_summary = df_rush.groupby('시간대')['대여건수'].agg(['mean', 'sum'])\n",
    "print(f\"[가설3] 평일 시간대별 대여현황:\")\n",
    "print(rush_summary)\n",
    "      \n"
   ]
  },
  {
   "cell_type": "code",
   "execution_count": null,
   "id": "0bc07e1e",
   "metadata": {},
   "outputs": [
    {
     "name": "stdout",
     "output_type": "stream",
     "text": [
      "\n",
      "==================================================\n",
      "7. 최종 데이터 확인\n",
      "==================================================\n"
     ]
    }
   ],
   "source": [
    "# ==================================\n",
    "# 7. 최종 데이터 확인 및 저장\n",
    "# ==================================\n",
    "print(\"\\n\" + \"=\"* 50)\n",
    "print(\"7. 최종 데이터 확인\")\n",
    "print(\"=\"* 50)"
   ]
  },
  {
   "cell_type": "code",
   "execution_count": 106,
   "id": "4c7661ee",
   "metadata": {},
   "outputs": [
    {
     "name": "stdout",
     "output_type": "stream",
     "text": [
      "\n",
      "총 데이터: 130285건\n",
      "기간: 2025-06-01 00:00:00 ~ 2025-06-01 23:59:59\n",
      "\n",
      "컬럼 목록: ['자전거번호', '대여일시', '대여 대여소번호', '대여 대여소명', '대여거치대', '반납일시', '반납대여소번호', '반납대여소명', '반납거치대', '이용시간(분)', '이용거리(M)', '생년', '성별', '이용자종류', '대여대여소ID', '반납대여소ID', '자전거구분', '날짜', '시간', '요일', '월', '요일명', '주말평일', '날짜_str', '공휴일', '주말평일_최종', '시간대', '대여건수', '기온', '강수량', '풍속', '습도', '날씨상태', '계절', '날씨양호', '기온구간']\n"
     ]
    }
   ],
   "source": [
    "print(f\"\\n총 데이터: {len(merged_df)}건\")\n",
    "print(f\"기간: {merged_df['대여일시'].min()} ~ {merged_df['대여일시'].max()}\")\n",
    "print(f\"\\n컬럼 목록: {merged_df.columns.tolist()}\")"
   ]
  },
  {
   "cell_type": "code",
   "execution_count": 108,
   "id": "2ea9f6c9",
   "metadata": {},
   "outputs": [
    {
     "name": "stdout",
     "output_type": "stream",
     "text": [
      "\n",
      "최종 데이터 샘플:\n",
      "                 대여일시  대여건수    기온  강수량 날씨상태 주말평일_최종 시간대    기온구간\n",
      "0 2025-06-01 00:00:32     1  19.8  0.0   맑음      평일  야간  15-20도\n",
      "1 2025-06-01 00:00:34     1  19.8  0.0   맑음      평일  야간  15-20도\n",
      "2 2025-06-01 00:01:04     1  19.8  0.0   맑음      평일  야간  15-20도\n",
      "3 2025-06-01 00:00:29     1  19.8  0.0   맑음      평일  야간  15-20도\n",
      "4 2025-06-01 00:00:21     1  19.8  0.0   맑음      평일  야간  15-20도\n",
      "5 2025-06-01 00:01:08     1  19.8  0.0   맑음      평일  야간  15-20도\n",
      "6 2025-06-01 00:00:55     1  19.8  0.0   맑음      평일  야간  15-20도\n",
      "7 2025-06-01 00:01:05     1  19.8  0.0   맑음      평일  야간  15-20도\n",
      "8 2025-06-01 00:00:17     1  19.8  0.0   맑음      평일  야간  15-20도\n",
      "9 2025-06-01 00:00:30     1  19.8  0.0   맑음      평일  야간  15-20도\n"
     ]
    }
   ],
   "source": [
    "print(\"\\n최종 데이터 샘플:\")\n",
    "display_cols = ['대여일시', '대여건수', '기온', '강수량', '날씨상태','주말평일_최종', '시간대', '기온구간']\n",
    "print(merged_df[display_cols].head(10))"
   ]
  },
  {
   "cell_type": "code",
   "execution_count": 109,
   "id": "9e5a1cca",
   "metadata": {},
   "outputs": [
    {
     "name": "stdout",
     "output_type": "stream",
     "text": [
      "\n",
      "기초 통계:\n",
      "           대여건수             기온       강수량             풍속             습도\n",
      "count  130285.0  130285.000000  130285.0  130285.000000  130285.000000\n",
      "mean        1.0      24.424895       0.0       2.434951      51.143363\n",
      "std         0.0       3.283530       0.0       1.026930      11.012513\n",
      "min         1.0      17.100000       0.0       0.600000      39.000000\n",
      "25%         1.0      22.200000       0.0       1.400000      44.000000\n",
      "50%         1.0      25.300000       0.0       2.600000      46.000000\n",
      "75%         1.0      27.600000       0.0       2.900000      55.000000\n",
      "max         1.0      29.100000       0.0       4.600000      81.000000\n"
     ]
    }
   ],
   "source": [
    "print(\"\\n기초 통계:\")\n",
    "print(merged_df[['대여건수', '기온', '강수량', '풍속', '습도']].describe())"
   ]
  },
  {
   "cell_type": "code",
   "execution_count": 110,
   "id": "7874e298",
   "metadata": {},
   "outputs": [
    {
     "name": "stdout",
     "output_type": "stream",
     "text": [
      "\n",
      " 파일 저장 완료: 자전거_날씨_병합완료.csv\n"
     ]
    }
   ],
   "source": [
    "#저장\n",
    "merged_df.to_csv('자전거_날씨_병합완료.csv', index=False, encoding='utf-8-sig')\n",
    "print(\"\\n 파일 저장 완료: 자전거_날씨_병합완료.csv\")\n"
   ]
  },
  {
   "cell_type": "code",
   "execution_count": 111,
   "id": "b500e93c",
   "metadata": {},
   "outputs": [
    {
     "name": "stdout",
     "output_type": "stream",
     "text": [
      " 가설별 데이터 저장 완료\n"
     ]
    }
   ],
   "source": [
    "# 가설별 데이터도 별도 저장\n",
    "df_temp.to_csv('가설2_기온분석.csv', index=False, encoding='utf-8-sig')\n",
    "df_weekday.to_csv('가설2_주말평일분석.csv', index=False, encoding='utf-8-sig')\n",
    "df_rush.to_csv('가설3_출퇴근시간대분석.csv',    index=False, encoding='utf-8-sig')\n",
    "print(\" 가설별 데이터 저장 완료\")"
   ]
  },
  {
   "cell_type": "code",
   "execution_count": 112,
   "id": "dc2db006",
   "metadata": {},
   "outputs": [
    {
     "name": "stdout",
     "output_type": "stream",
     "text": [
      "\n",
      "==================================================\n",
      "전처리 완료!\n",
      "==================================================\n"
     ]
    }
   ],
   "source": [
    "print(\"\\n\" +\"=\"* 50)\n",
    "print(\"전처리 완료!\")\n",
    "print(\"=\"* 50)"
   ]
  },
  {
   "cell_type": "code",
   "execution_count": null,
   "id": "4074337b",
   "metadata": {},
   "outputs": [],
   "source": []
  }
 ],
 "metadata": {
  "kernelspec": {
   "display_name": "3.14.0",
   "language": "python",
   "name": "python3"
  },
  "language_info": {
   "codemirror_mode": {
    "name": "ipython",
    "version": 3
   },
   "file_extension": ".py",
   "mimetype": "text/x-python",
   "name": "python",
   "nbconvert_exporter": "python",
   "pygments_lexer": "ipython3",
   "version": "3.14.0"
  }
 },
 "nbformat": 4,
 "nbformat_minor": 5
}
